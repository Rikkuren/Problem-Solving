{
 "cells": [
  {
   "cell_type": "markdown",
   "metadata": {},
   "source": [
    "Challenge 1: First Factorial"
   ]
  },
  {
   "cell_type": "code",
   "execution_count": null,
   "metadata": {},
   "outputs": [],
   "source": [
    "# Create a function to return a factorial (to take a \"value\", multiply by the \"value -1\" and continue until the final value is 1)\n",
    "\n",
    "def factorial(n): \n",
    "\n",
    "    var=1   # Set to 1 every time the function is called\n",
    "    n2=n    # added in for second while loop, see middle comments\n",
    "    while(n>1):    # while loop as long as n is greater than 1\n",
    "        var*=n     # takes var multiplies by n and sets product as new var value\n",
    "        n-=1       # takes n value and subtracts 1 and sets as new n value\n",
    "\n",
    "    print(var)     # prints the factorial of n\n",
    "\n",
    "\n",
    "    # When I reread the challenge, I realised it may not be quite as straightforward as producing just the factorial result\n",
    "    # So I spent a considerable amount of time trying to match the output as you think you may have wanted.\n",
    "\n",
    "    list=[]        # creating a blank list each time the function is run\n",
    "\n",
    "    while(n2>0):   # while loop as long as n2 is greater than 0 \n",
    "        list.append(str(n2))  #add to the list as a string n2\n",
    "        n2-=1                 #creates next n2 value and stops infinite looping - which I assure you I did not cause \n",
    "\n",
    "    list2 = ' * '.join(list) #list 2 joins the values in \"list\" together as a string with \" * \" between\n",
    "\n",
    "  \n",
    "    print(f\"({list2}) = {str(var)}\") # Print hopefully desired output(?!)\n",
    "\n",
    "factorial(4)\n",
    "factorial(18)"
   ]
  },
  {
   "cell_type": "markdown",
   "metadata": {},
   "source": [
    "Challenge 2: Time Convert"
   ]
  },
  {
   "cell_type": "code",
   "execution_count": null,
   "metadata": {},
   "outputs": [],
   "source": [
    "import math #math imported to allow the math.floor function\n",
    "\n",
    "# Creating a function to convert a number into hours and minutes\n",
    "\n",
    "def convert(time): \n",
    "\n",
    "    hours=str(math.floor(time/60)) # defining hours with a round down to nearest integer\n",
    "    minutes=str((time%60)) # defining minutes with modulo to find the remainder\n",
    "    # converting the integer hours and minutes to a string as cannot print integer and string together  \n",
    "    print(hours+\":\"+minutes) #print output from function separated by a colon.\n",
    "\n",
    "convert(74)\n",
    "convert(118)"
   ]
  },
  {
   "cell_type": "markdown",
   "metadata": {},
   "source": [
    "Challenge 3: Consonant Count"
   ]
  },
  {
   "cell_type": "code",
   "execution_count": null,
   "metadata": {},
   "outputs": [],
   "source": [
    "\n",
    "# Create a function to count non-vowels in a string\n",
    "def count_cons(string):     #Defined function to take one parameter\n",
    "    # Make input lower case\n",
    "    data=string.lower()\n",
    "    # Made list of vowels\n",
    "    vowels=[\"a\",\"e\",\"i\",\"o\",\"u\"]\n",
    "    # Made blank list for use in for loop\n",
    "    not_vowels=[]\n",
    "\n",
    "    for char in data: # Loop through all characters in the lower case string\n",
    "        if char not in vowels: # Checking not a vowel and if not\n",
    "            not_vowels.append(char) # Add to the blank list\n",
    "\n",
    "    print(len(not_vowels)) #Print the length of the list of non vowels\n",
    "\n",
    "count_cons(\"All cows eat grass\") # Test case\n",
    "count_cons(\"Today is a really hot day but will cool down later\")\n",
    "count_cons(\"Rabbits bounce whilst dogs bark\")"
   ]
  },
  {
   "cell_type": "markdown",
   "metadata": {},
   "source": [
    "Challenge 4: H Distance"
   ]
  },
  {
   "cell_type": "code",
   "execution_count": null,
   "metadata": {},
   "outputs": [],
   "source": [
    "# Define a function to compare an array of 2 strings\n",
    "\n",
    "def ham(array):\n",
    "\n",
    "    string1=str(array[0])     # split the array into two strings, coverted each into a string\n",
    "    string2=str(array[1])\n",
    "            \n",
    "    non_match=[]              # created an empty list to add the non matching characters to\n",
    "    for char1, char2 in zip(string1,string2):    # created a for loop to compare the characters in tuples(zip function)\n",
    "        if char1 != char2:             # if the characters did not match it would add to the non_match list\n",
    "            non_match.append(char2)\n",
    "\n",
    "    print(len(non_match))     #prints the length of the non_match list giving the total number of non matches\n",
    "    \n",
    "list1 = [100101001, 110110011]\n",
    "list2 = [11001101, 10110110]\n",
    "\n",
    "ham(list1)\n",
    "ham(list2)"
   ]
  },
  {
   "cell_type": "markdown",
   "metadata": {},
   "source": [
    "Challenge 5: Roman Numbers"
   ]
  },
  {
   "cell_type": "code",
   "execution_count": null,
   "metadata": {},
   "outputs": [],
   "source": [
    "import math\n",
    "\n",
    "# Creating a function to convert an integer value into roman numerals\n",
    "\n",
    "def numeral(num):\n",
    "\n",
    "    thous=math.floor(num/1000)  # to identify the number of thousands, I divided the integer by 1000 & rounded down, using math.floor\n",
    "    huns=math.floor((num%1000)/100) # used modulo to strip the thousands, divided by 100 and rounded down\n",
    "    tens=math.floor((num%100)/10) # used modulo to strip the hundreds, divided by 10 and rounded down\n",
    "    units=(num%10) # used modulo to strip the tens to give the unit\n",
    "\n",
    "    th_list=[\"\",\"M\",\"MM\",\"MMM\",\"MV\"] # created lists for each power of 10 in roman numerals \n",
    "    h_list=[\"\",\"C\",\"CC\",\"CCC\",\"CD\",\"D\",\"DC\",\"DCC\",\"DCCC\",\"CM\"]\n",
    "    t_list=[\"\",\"X\",\"XX\",\"XXX\",\"XL\",\"L\",\"LX\",\"LXX\",\"LXXX\",\"XC\"]\n",
    "    u_list=[\"\",\"I\",\"II\",\"III\",\"IV\",\"V\",\"VI\",\"VII\",\"VIII\",\"IX\"]\n",
    "   \n",
    "    \n",
    "    print(th_list[thous]+h_list[huns]+t_list[tens]+u_list[units]) # printed output after concatenating the strings\n",
    "   \n",
    "\n",
    "numeral(1943)\n",
    "numeral(423)\n",
    "numeral(3612)"
   ]
  }
 ],
 "metadata": {
  "kernelspec": {
   "display_name": "Python 3.10.7 64-bit",
   "language": "python",
   "name": "python3"
  },
  "language_info": {
   "codemirror_mode": {
    "name": "ipython",
    "version": 3
   },
   "file_extension": ".py",
   "mimetype": "text/x-python",
   "name": "python",
   "nbconvert_exporter": "python",
   "pygments_lexer": "ipython3",
   "version": "3.10.7"
  },
  "orig_nbformat": 4,
  "vscode": {
   "interpreter": {
    "hash": "369f2c481f4da34e4445cda3fffd2e751bd1c4d706f27375911949ba6bb62e1c"
   }
  }
 },
 "nbformat": 4,
 "nbformat_minor": 2
}
